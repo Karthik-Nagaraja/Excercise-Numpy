{
 "cells": [
  {
   "cell_type": "code",
   "execution_count": 1,
   "metadata": {
    "collapsed": false
   },
   "outputs": [
    {
     "name": "stdout",
     "output_type": "stream",
     "text": [
      "<type 'numpy.ndarray'>\n",
      "[[             nan              nan              nan              nan\n",
      "               nan]\n",
      " [  1.98600000e+03              nan              nan              nan\n",
      "    0.00000000e+00]\n",
      " [  1.98600000e+03              nan              nan              nan\n",
      "    5.00000000e-01]\n",
      " ..., \n",
      " [  1.98600000e+03              nan              nan              nan\n",
      "    2.54000000e+00]\n",
      " [  1.98700000e+03              nan              nan              nan\n",
      "    0.00000000e+00]\n",
      " [  1.98600000e+03              nan              nan              nan\n",
      "    5.15000000e+00]]\n"
     ]
    }
   ],
   "source": [
    "import numpy\n",
    "world_alcohol=numpy.genfromtxt(\"world_alcohol.csv\",delimiter=\",\")\n",
    "print(type(world_alcohol))\n",
    "print(world_alcohol)"
   ]
  },
  {
   "cell_type": "code",
   "execution_count": 3,
   "metadata": {
    "collapsed": false
   },
   "outputs": [
    {
     "name": "stdout",
     "output_type": "stream",
     "text": [
      "(3L,)\n",
      "(3L, 3L)\n"
     ]
    }
   ],
   "source": [
    "vector=numpy.array([10,20,30] )\n",
    "matrix=numpy.array([[5,10,15],[20,25,30],[35,40,45]])\n",
    "vector_shape=vector.shape\n",
    "matrix_shape=matrix.shape\n",
    "print(vector_shape)\n",
    "print(matrix_shape)"
   ]
  },
  {
   "cell_type": "markdown",
   "metadata": {},
   "source": [
    "\n",
    "\n",
    "There are a few concepts we haven't been introduced to yet that we'll get into one by one:\n",
    "\n",
    "    Many items in world_alcohol are nan.\n",
    "    The entire first row is nan.\n",
    "    Some of the numbers are written like 1.98600000e+03.\n",
    "\n",
    "The data type of world_alcohol is float. Because all of the values in a NumPy array have to have the same data type, NumPy attempted to convert all of the columns to floats when they were read in. The numpy.genfromtxt() function will attempt to guess the correct data type of the array it creates.\n",
    "\n",
    "In this case, the WHO Region, Country, and Beverage Types columns are actually strings, and couldn't be converted to floats. When NumPy can't convert a value to a numeric data type like float or integer, it uses a special nan value that stands for Not a Number. NumPy assigns an na value, which stands for Not Available, when the value doesn't exist. nan and na values are types of missing data. We'll dive more into how to deal with missing data in later missions.\n",
    "\n",
    "The whole first row of world_alcohol.csv is a header row that contains the names of each column. This is not actually part of the data, and consists entirely of strings. Since the strings couldn't be converted to floats properly, NumPy uses nan values to represent them.\n",
    "\n",
    "If you haven't seen scientific notation before, you might not recognize numbers like 1.98600000e+03. Scientific notation is a way to condense how very large or very precise numbers are displayed. We can represent 100 in scientific notation as 1e+02. The e+02 indicates that we should multiply what comes before it by 10 ^ 2(10 to the power 2, or 10 squared). This results in 1 * 100, or 100. Thus, 1.98600000e+03 is actually 1.986 * 10 ^ 3, or 1986. 1000000000000000 can be written as 1e+15.\n",
    "\n",
    "In this case, 1.98600000e+03 is actually longer than 1986, but NumPy displays numeric values in scientific notation by default to account for larger or more precise numbers."
   ]
  },
  {
   "cell_type": "markdown",
   "metadata": {},
   "source": [
    "Reading in the data properly\n",
    "\n",
    "Our data wasn't read in properly, which resulted in NumPy trying to convert strings to floats, and nan values. We can fix this by specifying in the numpy.genfromtxt() function that we want to read in all the data as strings. While we're at it, we can also specify that we want to skip the header row of world_alcohol.csv.\n",
    "\n",
    "We can do this by:\n",
    "\n",
    "    Specifying the keyword argument dtype when reading in world_alcohol.csv, and setting it to \"U75\". This specifies that we want to read in each value as a 75 byte unicode data type. We'll dive more into unicode and bytes later on, but for now, it's enough to know that this will read in our data properly.\n",
    "    Specifying the keyword argument skip_header, and setting it to 1. This will skip the first row of world_alcohol.csv when reading in the data.\n"
   ]
  },
  {
   "cell_type": "code",
   "execution_count": 4,
   "metadata": {
    "collapsed": false
   },
   "outputs": [
    {
     "name": "stdout",
     "output_type": "stream",
     "text": [
      "[[u'1986' u'Western Pacific' u'Viet Nam' u'Wine' u'0']\n",
      " [u'1986' u'Americas' u'Uruguay' u'Other' u'0.5']\n",
      " [u'1985' u'Africa' u\"Cte d'Ivoire\" u'Wine' u'1.62']\n",
      " ..., \n",
      " [u'1986' u'Europe' u'Switzerland' u'Spirits' u'2.54']\n",
      " [u'1987' u'Western Pacific' u'Papua New Guinea' u'Other' u'0']\n",
      " [u'1986' u'Africa' u'Swaziland' u'Other' u'5.15']]\n"
     ]
    }
   ],
   "source": [
    "world_alcohol=numpy.genfromtxt(\"world_alcohol.csv\",skip_header=1,dtype=\"U75\",delimiter=\",\")\n",
    "print(world_alcohol)"
   ]
  },
  {
   "cell_type": "code",
   "execution_count": 5,
   "metadata": {
    "collapsed": true
   },
   "outputs": [],
   "source": [
    "uruguay_other_1986=world_alcohol[1,4]\n",
    "third_country=world_alcohol[:,2]"
   ]
  },
  {
   "cell_type": "code",
   "execution_count": 6,
   "metadata": {
    "collapsed": false
   },
   "outputs": [
    {
     "name": "stdout",
     "output_type": "stream",
     "text": [
      "('first_two_columns', array([[u'1986', u'Western Pacific'],\n",
      "       [u'1986', u'Americas'],\n",
      "       [u'1985', u'Africa'],\n",
      "       ..., \n",
      "       [u'1986', u'Europe'],\n",
      "       [u'1987', u'Western Pacific'],\n",
      "       [u'1986', u'Africa']], \n",
      "      dtype='<U75'))\n",
      "('first_ten_years', array([u'1986', u'1986', u'1985', u'1986', u'1987', u'1987', u'1987',\n",
      "       u'1985', u'1986', u'1984'], \n",
      "      dtype='<U75'))\n",
      "('first_ten_rows', array([[u'1986', u'Western Pacific', u'Viet Nam', u'Wine', u'0'],\n",
      "       [u'1986', u'Americas', u'Uruguay', u'Other', u'0.5'],\n",
      "       [u'1985', u'Africa', u\"Cte d'Ivoire\", u'Wine', u'1.62'],\n",
      "       [u'1986', u'Americas', u'Colombia', u'Beer', u'4.27'],\n",
      "       [u'1987', u'Americas', u'Saint Kitts and Nevis', u'Beer', u'1.98'],\n",
      "       [u'1987', u'Americas', u'Guatemala', u'Other', u'0'],\n",
      "       [u'1987', u'Africa', u'Mauritius', u'Wine', u'0.13'],\n",
      "       [u'1985', u'Africa', u'Angola', u'Spirits', u'0.39'],\n",
      "       [u'1986', u'Americas', u'Antigua and Barbuda', u'Spirits', u'1.55'],\n",
      "       [u'1984', u'Africa', u'Nigeria', u'Other', u'6.1']], \n",
      "      dtype='<U75'))\n"
     ]
    }
   ],
   "source": [
    "first_two_columns=world_alcohol[:,0:2]\n",
    "first_ten_years=world_alcohol[0:10,0]\n",
    "first_ten_rows=world_alcohol[0:10,:]\n",
    "print('first_two_columns',first_two_columns)\n",
    "print('first_ten_years',first_ten_years)\n",
    "print('first_ten_rows',first_ten_rows)"
   ]
  },
  {
   "cell_type": "code",
   "execution_count": 9,
   "metadata": {
    "collapsed": false
   },
   "outputs": [
    {
     "name": "stdout",
     "output_type": "stream",
     "text": [
      "[[u'1986' u'Africa' u'Algeria' u'Wine' u'0.1']\n",
      " [u'1986' u'Africa' u'Algeria' u'Spirits' u'0.01']\n",
      " [u'1986' u'Africa' u'Algeria' u'Beer' u'0.18']\n",
      " [u'1986' u'Africa' u'Algeria' u'Other' u'0']]\n"
     ]
    }
   ],
   "source": [
    "year_1986=world_alcohol[:,0]=='1986'\n",
    "Algeria=world_alcohol[:,2]=='Algeria'\n",
    "is_algeria_and_1986=year_1986 & Algeria\n",
    "print(world_alcohol[is_algeria_and_1986,:])"
   ]
  },
  {
   "cell_type": "code",
   "execution_count": null,
   "metadata": {
    "collapsed": true
   },
   "outputs": [],
   "source": [
    "Replace '' by true or false for float datatype"
   ]
  },
  {
   "cell_type": "code",
   "execution_count": 10,
   "metadata": {
    "collapsed": true
   },
   "outputs": [],
   "source": [
    "is_value_empty=world_alcohol[:,4]==''\n",
    "world_alcohol[is_value_empty,4]='0'"
   ]
  },
  {
   "cell_type": "code",
   "execution_count": 14,
   "metadata": {
    "collapsed": false
   },
   "outputs": [
    {
     "name": "stdout",
     "output_type": "stream",
     "text": [
      "<U75\n",
      "float64\n",
      "[ 0.    0.5   1.62 ...,  2.54  0.    5.15]\n"
     ]
    }
   ],
   "source": [
    "alcohol_consumption=world_alcohol[:,4]\n",
    "print(alcohol_consumption.dtype)\n",
    "alcohol_consumption=alcohol_consumption.astype(float)\n",
    "print(alcohol_consumption.dtype)\n",
    "print(alcohol_consumption)"
   ]
  },
  {
   "cell_type": "code",
   "execution_count": 15,
   "metadata": {
    "collapsed": false
   },
   "outputs": [
    {
     "name": "stdout",
     "output_type": "stream",
     "text": [
      "3908.96\n",
      "1.20017193737\n"
     ]
    }
   ],
   "source": [
    "total_alcohol=alcohol_consumption.sum(axis=0)\n",
    "average_alcohol=alcohol_consumption.mean(axis=0)\n",
    "print(total_alcohol)\n",
    "print(average_alcohol)"
   ]
  },
  {
   "cell_type": "code",
   "execution_count": 19,
   "metadata": {
    "collapsed": false
   },
   "outputs": [
    {
     "name": "stdout",
     "output_type": "stream",
     "text": [
      "164\n",
      "[u'Afghanistan' u'Albania' u'Algeria' u'Angola' u'Antigua and Barbuda'\n",
      " u'Argentina' u'Australia' u'Austria' u'Bahamas' u'Bahrain' u'Bangladesh'\n",
      " u'Belarus' u'Belgium' u'Belize' u'Benin' u'Bhutan'\n",
      " u'Bolivia (Plurinational State of)' u'Botswana' u'Brazil'\n",
      " u'Brunei Darussalam' u'Bulgaria' u'Burkina Faso' u'Burundi' u'Cabo Verde'\n",
      " u'Cambodia' u'Cameroon' u'Canada' u'Central African Republic' u'Chad'\n",
      " u'Chile' u'China' u'Colombia' u'Comoros' u'Congo' u'Costa Rica' u'Croatia'\n",
      " u\"Cte d'Ivoire\" u'Cuba' u'Cyprus' u'Czech Republic'\n",
      " u\"Democratic People's Republic of Korea\"\n",
      " u'Democratic Republic of the Congo' u'Denmark' u'Djibouti'\n",
      " u'Dominican Republic' u'Ecuador' u'Egypt' u'El Salvador'\n",
      " u'Equatorial Guinea' u'Eritrea' u'Ethiopia' u'Fiji' u'Finland' u'France'\n",
      " u'Gabon' u'Gambia' u'Germany' u'Ghana' u'Greece' u'Guatemala' u'Guinea'\n",
      " u'Guinea-Bissau' u'Guyana' u'Haiti' u'Honduras' u'Hungary' u'Iceland'\n",
      " u'India' u'Indonesia' u'Iran (Islamic Republic of)' u'Iraq' u'Ireland'\n",
      " u'Israel' u'Italy' u'Jamaica' u'Japan' u'Jordan' u'Kenya' u'Kiribati'\n",
      " u'Kuwait' u'Kyrgyzstan' u\"Lao People's Democratic Republic\" u'Latvia'\n",
      " u'Lebanon' u'Lesotho' u'Liberia' u'Libya' u'Lithuania' u'Luxembourg'\n",
      " u'Madagascar' u'Malawi' u'Malaysia' u'Mali' u'Malta' u'Mauritania'\n",
      " u'Mauritius' u'Mexico' u'Micronesia (Federated States of)' u'Mongolia'\n",
      " u'Morocco' u'Mozambique' u'Myanmar' u'Namibia' u'Nepal' u'Netherlands'\n",
      " u'New Zealand' u'Nicaragua' u'Niger' u'Nigeria' u'Norway' u'Oman'\n",
      " u'Pakistan' u'Panama' u'Papua New Guinea' u'Paraguay' u'Peru'\n",
      " u'Philippines' u'Poland' u'Portugal' u'Qatar' u'Republic of Korea'\n",
      " u'Romania' u'Russian Federation' u'Rwanda' u'Saint Kitts and Nevis'\n",
      " u'Saint Lucia' u'Samoa' u'Sao Tome and Principe' u'Saudi Arabia'\n",
      " u'Senegal' u'Seychelles' u'Sierra Leone' u'Singapore' u'Slovakia'\n",
      " u'Slovenia' u'Solomon Islands' u'Somalia' u'South Africa' u'Spain'\n",
      " u'Sri Lanka' u'Sudan' u'Suriname' u'Swaziland' u'Sweden' u'Switzerland'\n",
      " u'Syrian Arab Republic' u'Thailand' u'Togo' u'Trinidad and Tobago'\n",
      " u'Tunisia' u'Turkey' u'Uganda' u'Ukraine' u'United Arab Emirates'\n",
      " u'United Kingdom of Great Britain and Northern Ireland'\n",
      " u'United Republic of Tanzania' u'United States of America' u'Uruguay'\n",
      " u'Vanuatu' u'Venezuela (Bolivarian Republic of)' u'Viet Nam' u'Yemen'\n",
      " u'Zambia' u'Zimbabwe']\n"
     ]
    }
   ],
   "source": [
    "countries=numpy.unique(world_alcohol[:,2])\n",
    "print(len(countries))\n",
    "print(countries)\n",
    "\n"
   ]
  },
  {
   "cell_type": "code",
   "execution_count": 21,
   "metadata": {
    "collapsed": false
   },
   "outputs": [
    {
     "name": "stdout",
     "output_type": "stream",
     "text": [
      "164\n",
      "{u'Canada': 9.0, u'Sao Tome and Principe': 2.5699999999999998, u'United Republic of Tanzania': 5.9000000000000004, u'Lithuania': 0.0, u'Cambodia': 0.33000000000000002, u'Ethiopia': 0.8600000000000001, u'Swaziland': 6.6799999999999997, u'Argentina': 10.82, u'Cameroon': 6.3599999999999994, u'Burkina Faso': 3.9900000000000002, u'Ghana': 1.8599999999999999, u'Saudi Arabia': 0.14999999999999999, u'Slovenia': 12.969999999999999, u'Guatemala': 2.4700000000000002, u'Kuwait': 0.0, u'Russian Federation': 5.3499999999999996, u'Jordan': 0.19, u'Spain': 13.280000000000001, u'Liberia': 5.6100000000000003, u'Netherlands': 10.030000000000001, u'Pakistan': 0.02, u'Oman': 1.03, u'Cabo Verde': 2.79, u'Seychelles': 3.3000000000000003, u'Gabon': 9.3399999999999999, u'New Zealand': 11.52, u'Yemen': 0.20000000000000001, u'Jamaica': 3.0299999999999998, u'Albania': 1.73, u'Samoa': 2.6299999999999999, u'United Arab Emirates': 4.4299999999999997, u'India': 1.6599999999999999, u'Lesotho': 2.02, u'Kenya': 2.8199999999999998, u'Turkey': 0.71999999999999997, u'Afghanistan': 0.0, u'Bangladesh': 0.0, u'Mauritania': 0.02, u'Iran (Islamic Republic of)': 0.0, u'Viet Nam': 0.16, u'Saint Lucia': 11.619999999999999, u'Mongolia': 2.5899999999999999, u'France': 16.050000000000001, u'Syrian Arab Republic': 0.54000000000000004, u'Rwanda': 7.5499999999999989, u'Slovakia': 12.700000000000001, u'Somalia': 0.0, u'Peru': 4.9900000000000002, u'Vanuatu': 1.74, u'Norway': 5.0800000000000001, u'Malawi': 1.02, u'Benin': 1.3800000000000001, u'Cuba': 4.3700000000000001, u'United States of America': 9.1600000000000001, u'Saint Kitts and Nevis': 4.6500000000000004, u\"Cte d'Ivoire\": 2.2000000000000002, u'Togo': 2.2199999999999998, u'China': 3.3300000000000001, u'Republic of Korea': 9.620000000000001, u'Dominican Republic': 4.5300000000000002, u'Bolivia (Plurinational State of)': 3.0499999999999998, u'Ukraine': 5.3200000000000003, u'Bahrain': 4.8899999999999997, u'Finland': 9.4199999999999982, u'Libya': 0.0, u'Indonesia': 0.070000000000000007, u'Central African Republic': 2.5199999999999996, u'Mauritius': 3.54, u'Sweden': 7.4699999999999998, u'Belarus': 7.9799999999999995, u'Mali': 0.66999999999999993, u'Bulgaria': 11.43, u'Romania': 8.4100000000000001, u'Angola': 2.2799999999999998, u'Chad': 0.30000000000000004, u'South Africa': 9.2100000000000009, u'Cyprus': 9.2899999999999991, u'Brunei Darussalam': 2.7800000000000002, u'Qatar': 1.4500000000000002, u'Malaysia': 0.68000000000000005, u'Austria': 13.9, u'Mozambique': 0.39000000000000001, u'Uganda': 7.7999999999999998, u'Hungary': 16.289999999999999, u'Niger': 0.11, u'Brazil': 5.5199999999999996, u'Guinea': 0.20999999999999999, u'Panama': 4.6000000000000005, u'Guyana': 9.9400000000000013, u'Costa Rica': 5.3999999999999995, u'Luxembourg': 15.210000000000001, u'Bahamas': 12.290000000000001, u'Ireland': 11.789999999999999, u'Nigeria': 6.7400000000000002, u'Ecuador': 2.54, u'Czech Republic': 13.009999999999998, u'Australia': 12.09, u'Algeria': 0.40000000000000002, u'El Salvador': 1.77, u'Solomon Islands': 0.58000000000000007, u'Chile': 8.6499999999999986, u'Belgium': 11.609999999999999, u'Kiribati': 0.47999999999999998, u'Haiti': 5.8099999999999996, u'Iraq': 0.75, u'Sierra Leone': 4.3800000000000008, u\"Lao People's Democratic Republic\": 5.9500000000000002, u'Gambia': 1.6300000000000001, u'Philippines': 3.7799999999999998, u'Morocco': 0.69999999999999996, u'Croatia': 10.92, u'Guinea-Bissau': 2.6699999999999999, u'Thailand': 3.9199999999999999, u'Switzerland': 13.849999999999998, u'Venezuela (Bolivarian Republic of)': 7.8700000000000001, u'Belize': 0.0, u'Portugal': 15.350000000000001, u'Uruguay': 7.4399999999999995, u'Mexico': 5.0999999999999996, u'Lebanon': 3.9399999999999999, u'Tunisia': 0.94999999999999996, u'Djibouti': 0.87, u'Antigua and Barbuda': 4.6900000000000004, u'Colombia': 6.9600000000000009, u'Burundi': 8.1599999999999984, u'Fiji': 1.9600000000000002, u'Madagascar': 1.3799999999999999, u'Italy': 10.899999999999999, u'Bhutan': 0.31, u'Sudan': 0.14999999999999999, u'Nepal': 0.029999999999999999, u'Malta': 7.1299999999999999, u'Democratic Republic of the Congo': 1.9199999999999999, u'Suriname': 3.6699999999999999, u'United Kingdom of Great Britain and Northern Ireland': 9.9900000000000002, u'Micronesia (Federated States of)': 0.0, u'Israel': 2.0300000000000002, u'Iceland': 5.3599999999999994, u'Zambia': 3.3700000000000001, u'Senegal': 0.6100000000000001, u'Papua New Guinea': 1.1099999999999999, u'Trinidad and Tobago': 4.6799999999999997, u'Zimbabwe': 4.9199999999999999, u'Germany': 14.640000000000001, u'Denmark': 11.649999999999999, u'Poland': 9.3300000000000001, u'Eritrea': 0.28999999999999998, u'Kyrgyzstan': 4.2799999999999994, u'Sri Lanka': 0.14000000000000001, u'Latvia': 7.0399999999999991, u'Japan': 7.7400000000000002, u'Honduras': 2.1499999999999999, u'Myanmar': 0.16, u'Equatorial Guinea': 6.4900000000000002, u'Egypt': 0.42000000000000004, u'Nicaragua': 2.5, u'Singapore': 1.6100000000000001, u\"Democratic People's Republic of Korea\": 3.6799999999999997, u'Botswana': 4.6299999999999999, u'Congo': 3.1500000000000004, u'Greece': 10.15, u'Paraguay': 6.5099999999999998, u'Namibia': 0.23999999999999999, u'Comoros': 0.10999999999999999}\n"
     ]
    }
   ],
   "source": [
    "#calculate the average consumption of all types of alcohol for a single country and year 1989\n",
    "totals = {}\n",
    "print(len(countries))\n",
    "is_1989=world_alcohol[:,0]=='1989'\n",
    "consumption_year=world_alcohol[is_1989,:]\n",
    "for country in countries:\n",
    "    select_country=consumption_year[:,2]==country\n",
    "    country_consumption=consumption_year[select_country,:]\n",
    "    alcohol_consumption=country_consumption[:,4]\n",
    "    empty_string=alcohol_consumption[:]==''\n",
    "    alcohol_consumption[empty_string]='0'\n",
    "    alcohol_consumption=alcohol_consumption.astype(float)\n",
    "    totals[country]=alcohol_consumption.sum()\n",
    "print(totals)    "
   ]
  },
  {
   "cell_type": "code",
   "execution_count": 22,
   "metadata": {
    "collapsed": false
   },
   "outputs": [
    {
     "name": "stdout",
     "output_type": "stream",
     "text": [
      "16.29\n",
      "Hungary\n"
     ]
    }
   ],
   "source": [
    "#Finding the Country that Drinks the Most\n",
    "highest_value = 0\n",
    "highest_key = None\n",
    "for k,v in totals.items():\n",
    "    if v>highest_value:\n",
    "        highest_value=v\n",
    "        highest_key=k\n",
    "print(highest_value)    \n",
    "print(highest_key)"
   ]
  },
  {
   "cell_type": "markdown",
   "metadata": {},
   "source": [
    "NumPy Strengths and Weaknesses\n",
    "\n",
    "You should now have a good foundation in NumPy, and in handling issues with your data. NumPy is much easier to work with than lists of lists, because:\n",
    "\n",
    "    It's easy to perform computations on data.\n",
    "    Data indexing and slicing is faster and easier.\n",
    "    We can convert data types quickly.\n",
    "\n",
    "Overall, NumPy makes working with data in Python much more efficient. It's widely used for this reason, especially for machine learning.\n",
    "\n",
    "You may have noticed some limitations with NumPy as you worked through the past two missions, though. For example:\n",
    "\n",
    "    All of the items in an array must have the same data type. For many datasets, this can make arrays cumbersome to work with.\n",
    "    Columns and rows must be referred to by number, which gets confusing when you go back and forth from column name to column number.\n",
    "\n",
    "In the next few missions, we'll learn about the Pandas library, one of the most popular data analysis libraries. Pandas builds on NumPy, but does a better job addressing the limitations of NumPy."
   ]
  }
 ],
 "metadata": {
  "anaconda-cloud": {},
  "kernelspec": {
   "display_name": "Python [default]",
   "language": "python",
   "name": "python2"
  },
  "language_info": {
   "codemirror_mode": {
    "name": "ipython",
    "version": 2
   },
   "file_extension": ".py",
   "mimetype": "text/x-python",
   "name": "python",
   "nbconvert_exporter": "python",
   "pygments_lexer": "ipython2",
   "version": "2.7.12"
  }
 },
 "nbformat": 4,
 "nbformat_minor": 1
}
